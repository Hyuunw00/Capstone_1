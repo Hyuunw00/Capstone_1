{
 "cells": [
  {
   "cell_type": "markdown",
   "id": "86656871",
   "metadata": {},
   "source": [
    "인프런 \"파이썬 머신러닝 완벽 가이드\" 강의 참조"
   ]
  },
  {
   "cell_type": "code",
   "execution_count": 1,
   "id": "ee27c9a8",
   "metadata": {},
   "outputs": [],
   "source": [
    "import pandas as pd\n",
    "import numpy as np"
   ]
  },
  {
   "cell_type": "markdown",
   "id": "9c77d3fa",
   "metadata": {},
   "source": [
    "## 훈련 데이터 로드\n",
    "- 3개로 분류된 클래스를 2개로 줄임\n",
    "- 훈련 데이터와 테스트 데이터로 나눔\n",
    "- 너무 짧은 리뷰와 긴 리뷰는 제외하여 데이터 사용"
   ]
  },
  {
   "cell_type": "code",
   "execution_count": 2,
   "id": "c1ef8ec5",
   "metadata": {},
   "outputs": [
    {
     "data": {
      "text/html": [
       "<div>\n",
       "<style scoped>\n",
       "    .dataframe tbody tr th:only-of-type {\n",
       "        vertical-align: middle;\n",
       "    }\n",
       "\n",
       "    .dataframe tbody tr th {\n",
       "        vertical-align: top;\n",
       "    }\n",
       "\n",
       "    .dataframe thead th {\n",
       "        text-align: right;\n",
       "    }\n",
       "</style>\n",
       "<table border=\"1\" class=\"dataframe\">\n",
       "  <thead>\n",
       "    <tr style=\"text-align: right;\">\n",
       "      <th></th>\n",
       "      <th>기준년월</th>\n",
       "      <th>식당ID</th>\n",
       "      <th>리뷰작성자닉네임명</th>\n",
       "      <th>리뷰작성자이미지URL</th>\n",
       "      <th>리뷰내용</th>\n",
       "      <th>평가내용</th>\n",
       "      <th>마지막수정일자</th>\n",
       "      <th>고화질이미지URL1</th>\n",
       "      <th>저화질이미지URL1</th>\n",
       "      <th>고화질이미지URL2</th>\n",
       "      <th>저화질이미지URL2</th>\n",
       "      <th>대상기준년월</th>\n",
       "    </tr>\n",
       "  </thead>\n",
       "  <tbody>\n",
       "    <tr>\n",
       "      <th>0</th>\n",
       "      <td>202108</td>\n",
       "      <td>yboTON846OvW</td>\n",
       "      <td>박성철</td>\n",
       "      <td>https://k.kakaocdn.net/dn/w5PTd/btqCZI3XCH9/Hx...</td>\n",
       "      <td>육사시미는 그런대로 soso구이는 정말 너무 했다 고기상태하며 여기가 맛집이라는게 ...</td>\n",
       "      <td>별로</td>\n",
       "      <td>20210801</td>\n",
       "      <td>NaN</td>\n",
       "      <td>NaN</td>\n",
       "      <td>NaN</td>\n",
       "      <td>NaN</td>\n",
       "      <td>202108</td>\n",
       "    </tr>\n",
       "    <tr>\n",
       "      <th>1</th>\n",
       "      <td>202108</td>\n",
       "      <td>55JxAje9n9K9</td>\n",
       "      <td>Mike Kim</td>\n",
       "      <td>https://s3-ap-northeast-2.amazonaws.com/mp.seo...</td>\n",
       "      <td>Great tonkatsu!</td>\n",
       "      <td>맛있다</td>\n",
       "      <td>20210801</td>\n",
       "      <td>NaN</td>\n",
       "      <td>NaN</td>\n",
       "      <td>NaN</td>\n",
       "      <td>NaN</td>\n",
       "      <td>202108</td>\n",
       "    </tr>\n",
       "    <tr>\n",
       "      <th>2</th>\n",
       "      <td>202108</td>\n",
       "      <td>NlFRruSiC4</td>\n",
       "      <td>Ted</td>\n",
       "      <td>https://k.kakaocdn.net/dn/cjx5pa/btqr308xB83/Q...</td>\n",
       "      <td>맛: 4.0서비스 : 3.5분위기 : 3.0가격 : 4.5주차 뒤에 있지만 비좁음바...</td>\n",
       "      <td>맛있다</td>\n",
       "      <td>20210801</td>\n",
       "      <td>NaN</td>\n",
       "      <td>NaN</td>\n",
       "      <td>NaN</td>\n",
       "      <td>NaN</td>\n",
       "      <td>202108</td>\n",
       "    </tr>\n",
       "  </tbody>\n",
       "</table>\n",
       "</div>"
      ],
      "text/plain": [
       "     기준년월          식당ID 리뷰작성자닉네임명  \\\n",
       "0  202108  yboTON846OvW       박성철   \n",
       "1  202108  55JxAje9n9K9  Mike Kim   \n",
       "2  202108    NlFRruSiC4       Ted   \n",
       "\n",
       "                                         리뷰작성자이미지URL  \\\n",
       "0  https://k.kakaocdn.net/dn/w5PTd/btqCZI3XCH9/Hx...   \n",
       "1  https://s3-ap-northeast-2.amazonaws.com/mp.seo...   \n",
       "2  https://k.kakaocdn.net/dn/cjx5pa/btqr308xB83/Q...   \n",
       "\n",
       "                                                리뷰내용 평가내용   마지막수정일자  \\\n",
       "0  육사시미는 그런대로 soso구이는 정말 너무 했다 고기상태하며 여기가 맛집이라는게 ...   별로  20210801   \n",
       "1                                   Great tonkatsu!   맛있다  20210801   \n",
       "2  맛: 4.0서비스 : 3.5분위기 : 3.0가격 : 4.5주차 뒤에 있지만 비좁음바...  맛있다  20210801   \n",
       "\n",
       "   고화질이미지URL1  저화질이미지URL1  고화질이미지URL2  저화질이미지URL2  대상기준년월  \n",
       "0         NaN         NaN         NaN         NaN  202108  \n",
       "1         NaN         NaN         NaN         NaN  202108  \n",
       "2         NaN         NaN         NaN         NaN  202108  "
      ]
     },
     "execution_count": 2,
     "metadata": {},
     "output_type": "execute_result"
    }
   ],
   "source": [
    "data = pd.read_csv(\"./식당리뷰.csv\", encoding = \"cp949\")\n",
    "data.head(3)"
   ]
  },
  {
   "cell_type": "code",
   "execution_count": 3,
   "id": "81f5d59c",
   "metadata": {},
   "outputs": [
    {
     "data": {
      "text/html": [
       "<div>\n",
       "<style scoped>\n",
       "    .dataframe tbody tr th:only-of-type {\n",
       "        vertical-align: middle;\n",
       "    }\n",
       "\n",
       "    .dataframe tbody tr th {\n",
       "        vertical-align: top;\n",
       "    }\n",
       "\n",
       "    .dataframe thead th {\n",
       "        text-align: right;\n",
       "    }\n",
       "</style>\n",
       "<table border=\"1\" class=\"dataframe\">\n",
       "  <thead>\n",
       "    <tr style=\"text-align: right;\">\n",
       "      <th></th>\n",
       "      <th>review</th>\n",
       "      <th>y</th>\n",
       "    </tr>\n",
       "  </thead>\n",
       "  <tbody>\n",
       "    <tr>\n",
       "      <th>200</th>\n",
       "      <td>☆디너 오마카세??120,000원☆지콘 준마이긴죠 핫탄니시키 히이레??130,000...</td>\n",
       "      <td>1</td>\n",
       "    </tr>\n",
       "    <tr>\n",
       "      <th>201</th>\n",
       "      <td>비지싫어하는데 맛은있네요 비지좋아하는 사람들은 엄청좋아할듯</td>\n",
       "      <td>1</td>\n",
       "    </tr>\n",
       "    <tr>\n",
       "      <th>202</th>\n",
       "      <td>맛있었고 가성비 괜찮았습니다. 다만 사람이 많았고 거리두기를 제대로 안지키는 느낌이...</td>\n",
       "      <td>1</td>\n",
       "    </tr>\n",
       "    <tr>\n",
       "      <th>203</th>\n",
       "      <td>진짜 전국 물회 탑입니당 ,, 이런 곳이 어디에 없잖아요. 회도 엄청나게 두툼하고 ...</td>\n",
       "      <td>1</td>\n",
       "    </tr>\n",
       "    <tr>\n",
       "      <th>204</th>\n",
       "      <td>분위기도 좋고 넓직한 공간에 힐링하기에 참 좋았습니다. 엄마랑 둘이서 방문했는데, ...</td>\n",
       "      <td>1</td>\n",
       "    </tr>\n",
       "  </tbody>\n",
       "</table>\n",
       "</div>"
      ],
      "text/plain": [
       "                                                review  y\n",
       "200  ☆디너 오마카세??120,000원☆지콘 준마이긴죠 핫탄니시키 히이레??130,000...  1\n",
       "201                   비지싫어하는데 맛은있네요 비지좋아하는 사람들은 엄청좋아할듯  1\n",
       "202  맛있었고 가성비 괜찮았습니다. 다만 사람이 많았고 거리두기를 제대로 안지키는 느낌이...  1\n",
       "203  진짜 전국 물회 탑입니당 ,, 이런 곳이 어디에 없잖아요. 회도 엄청나게 두툼하고 ...  1\n",
       "204  분위기도 좋고 넓직한 공간에 힐링하기에 참 좋았습니다. 엄마랑 둘이서 방문했는데, ...  1"
      ]
     },
     "execution_count": 3,
     "metadata": {},
     "output_type": "execute_result"
    }
   ],
   "source": [
    "x = np.array(data['리뷰내용'])\n",
    "y = np.where(data.iloc[:]['평가내용'] == \"맛있다\", 1, 0)\n",
    "\n",
    "data = pd.DataFrame(list(zip(x, y)), columns = ['review', 'y'])\n",
    "reidx = data.review.str.len().sort_values().index\n",
    "data = data.reindex(reidx)\n",
    "data = data.sort_index()[200:4200]\n",
    "data.head()"
   ]
  },
  {
   "cell_type": "code",
   "execution_count": 4,
   "id": "5b9f9326",
   "metadata": {},
   "outputs": [
    {
     "name": "stdout",
     "output_type": "stream",
     "text": [
      "1    2459\n",
      "0    1041\n",
      "Name: y, dtype: int64\n"
     ]
    },
    {
     "data": {
      "text/html": [
       "<div>\n",
       "<style scoped>\n",
       "    .dataframe tbody tr th:only-of-type {\n",
       "        vertical-align: middle;\n",
       "    }\n",
       "\n",
       "    .dataframe tbody tr th {\n",
       "        vertical-align: top;\n",
       "    }\n",
       "\n",
       "    .dataframe thead th {\n",
       "        text-align: right;\n",
       "    }\n",
       "</style>\n",
       "<table border=\"1\" class=\"dataframe\">\n",
       "  <thead>\n",
       "    <tr style=\"text-align: right;\">\n",
       "      <th></th>\n",
       "      <th>review</th>\n",
       "      <th>y</th>\n",
       "    </tr>\n",
       "  </thead>\n",
       "  <tbody>\n",
       "    <tr>\n",
       "      <th>200</th>\n",
       "      <td>☆디너 오마카세??120,000원☆지콘 준마이긴죠 핫탄니시키 히이레??130,000...</td>\n",
       "      <td>1</td>\n",
       "    </tr>\n",
       "    <tr>\n",
       "      <th>201</th>\n",
       "      <td>비지싫어하는데 맛은있네요 비지좋아하는 사람들은 엄청좋아할듯</td>\n",
       "      <td>1</td>\n",
       "    </tr>\n",
       "    <tr>\n",
       "      <th>202</th>\n",
       "      <td>맛있었고 가성비 괜찮았습니다. 다만 사람이 많았고 거리두기를 제대로 안지키는 느낌이...</td>\n",
       "      <td>1</td>\n",
       "    </tr>\n",
       "    <tr>\n",
       "      <th>203</th>\n",
       "      <td>진짜 전국 물회 탑입니당 ,, 이런 곳이 어디에 없잖아요. 회도 엄청나게 두툼하고 ...</td>\n",
       "      <td>1</td>\n",
       "    </tr>\n",
       "    <tr>\n",
       "      <th>204</th>\n",
       "      <td>분위기도 좋고 넓직한 공간에 힐링하기에 참 좋았습니다. 엄마랑 둘이서 방문했는데, ...</td>\n",
       "      <td>1</td>\n",
       "    </tr>\n",
       "  </tbody>\n",
       "</table>\n",
       "</div>"
      ],
      "text/plain": [
       "                                                review  y\n",
       "200  ☆디너 오마카세??120,000원☆지콘 준마이긴죠 핫탄니시키 히이레??130,000...  1\n",
       "201                   비지싫어하는데 맛은있네요 비지좋아하는 사람들은 엄청좋아할듯  1\n",
       "202  맛있었고 가성비 괜찮았습니다. 다만 사람이 많았고 거리두기를 제대로 안지키는 느낌이...  1\n",
       "203  진짜 전국 물회 탑입니당 ,, 이런 곳이 어디에 없잖아요. 회도 엄청나게 두툼하고 ...  1\n",
       "204  분위기도 좋고 넓직한 공간에 힐링하기에 참 좋았습니다. 엄마랑 둘이서 방문했는데, ...  1"
      ]
     },
     "execution_count": 4,
     "metadata": {},
     "output_type": "execute_result"
    }
   ],
   "source": [
    "train_df = data[:3500]\n",
    "print(train_df['y'].value_counts())\n",
    "train_df.head()"
   ]
  },
  {
   "cell_type": "code",
   "execution_count": 5,
   "id": "26be8846",
   "metadata": {},
   "outputs": [
    {
     "name": "stdout",
     "output_type": "stream",
     "text": [
      "1    364\n",
      "0    136\n",
      "Name: y, dtype: int64\n"
     ]
    },
    {
     "data": {
      "text/html": [
       "<div>\n",
       "<style scoped>\n",
       "    .dataframe tbody tr th:only-of-type {\n",
       "        vertical-align: middle;\n",
       "    }\n",
       "\n",
       "    .dataframe tbody tr th {\n",
       "        vertical-align: top;\n",
       "    }\n",
       "\n",
       "    .dataframe thead th {\n",
       "        text-align: right;\n",
       "    }\n",
       "</style>\n",
       "<table border=\"1\" class=\"dataframe\">\n",
       "  <thead>\n",
       "    <tr style=\"text-align: right;\">\n",
       "      <th></th>\n",
       "      <th>review</th>\n",
       "      <th>y</th>\n",
       "    </tr>\n",
       "  </thead>\n",
       "  <tbody>\n",
       "    <tr>\n",
       "      <th>4195</th>\n",
       "      <td>여기 크림모카는 365일 맛있어요ㅜㅜ계절을 가리지않고 계속 먹고싶어요! 골든 캐러맬...</td>\n",
       "      <td>1</td>\n",
       "    </tr>\n",
       "    <tr>\n",
       "      <th>4196</th>\n",
       "      <td>웨이팅해서 먹을 정도는 아닌거 같지만 쌀국수 국물이 찐~~하고 맛있어요! 뽀삐아도 ...</td>\n",
       "      <td>0</td>\n",
       "    </tr>\n",
       "    <tr>\n",
       "      <th>4197</th>\n",
       "      <td>요즘에는 웨이팅이 심해져서 가본 적이 없지만...주변 지인들 데리고 가면 절대 실패...</td>\n",
       "      <td>1</td>\n",
       "    </tr>\n",
       "    <tr>\n",
       "      <th>4198</th>\n",
       "      <td>카페에 가면 아메리카노나 드립을 마시지않으면 안 될 것만 같은 커피덕후였는데 요즘 ...</td>\n",
       "      <td>1</td>\n",
       "    </tr>\n",
       "    <tr>\n",
       "      <th>4199</th>\n",
       "      <td>가게 자체도 깔끔하고 수제버거 본연의 맛 역시 버거 번과 패티 모두 맛있었어요~! ...</td>\n",
       "      <td>1</td>\n",
       "    </tr>\n",
       "  </tbody>\n",
       "</table>\n",
       "</div>"
      ],
      "text/plain": [
       "                                                 review  y\n",
       "4195  여기 크림모카는 365일 맛있어요ㅜㅜ계절을 가리지않고 계속 먹고싶어요! 골든 캐러맬...  1\n",
       "4196  웨이팅해서 먹을 정도는 아닌거 같지만 쌀국수 국물이 찐~~하고 맛있어요! 뽀삐아도 ...  0\n",
       "4197  요즘에는 웨이팅이 심해져서 가본 적이 없지만...주변 지인들 데리고 가면 절대 실패...  1\n",
       "4198  카페에 가면 아메리카노나 드립을 마시지않으면 안 될 것만 같은 커피덕후였는데 요즘 ...  1\n",
       "4199  가게 자체도 깔끔하고 수제버거 본연의 맛 역시 버거 번과 패티 모두 맛있었어요~! ...  1"
      ]
     },
     "execution_count": 5,
     "metadata": {},
     "output_type": "execute_result"
    }
   ],
   "source": [
    "test_df = data[3500:]\n",
    "print(test_df['y'].value_counts())\n",
    "test_df.tail()"
   ]
  },
  {
   "cell_type": "markdown",
   "id": "e6a256ea",
   "metadata": {},
   "source": [
    "## 훈련 및 테스트\n",
    "- 문장을 형태소 단위로 분류\n",
    "- 3번 이하 나오는 요소 또는 90% 이상 차지하는 요소 삭제\n",
    "\n",
    "- 토큰화 과정 시간이 오래 걸립니다"
   ]
  },
  {
   "cell_type": "code",
   "execution_count": 7,
   "id": "8be2e1ff",
   "metadata": {},
   "outputs": [
    {
     "name": "stderr",
     "output_type": "stream",
     "text": [
      "C:\\Users\\svbea\\anaconda3\\envs\\eb\\lib\\site-packages\\konlpy\\tag\\_okt.py:17: UserWarning: \"Twitter\" has changed to \"Okt\" since KoNLPy v0.4.5.\n",
      "  warn('\"Twitter\" has changed to \"Okt\" since KoNLPy v0.4.5.')\n"
     ]
    }
   ],
   "source": [
    "from konlpy.tag import Twitter\n",
    "\n",
    "twitter = Twitter()\n",
    "def tw_tokenizer(text):\n",
    "    tokens_ko = twitter.morphs(text)\n",
    "    return tokens_ko"
   ]
  },
  {
   "cell_type": "code",
   "execution_count": 8,
   "id": "a3b498b2",
   "metadata": {},
   "outputs": [
    {
     "name": "stderr",
     "output_type": "stream",
     "text": [
      "C:\\Users\\svbea\\anaconda3\\envs\\eb\\lib\\site-packages\\sklearn\\feature_extraction\\text.py:516: UserWarning: The parameter 'token_pattern' will not be used since 'tokenizer' is not None'\n",
      "  warnings.warn(\n"
     ]
    }
   ],
   "source": [
    "from sklearn.feature_extraction.text import TfidfVectorizer\n",
    "from sklearn.linear_model import LogisticRegression\n",
    "from sklearn.model_selection import GridSearchCV\n",
    "\n",
    "tfidf_vect = TfidfVectorizer(tokenizer = tw_tokenizer, ngram_range = (1, 2), min_df = 3, max_df = 0.9)\n",
    "tfidf_vect.fit(train_df['review'])\n",
    "tfidf_matrix_train = tfidf_vect.transform(train_df['review'])"
   ]
  },
  {
   "cell_type": "code",
   "execution_count": 9,
   "id": "240bd0ef",
   "metadata": {
    "scrolled": true
   },
   "outputs": [
    {
     "name": "stdout",
     "output_type": "stream",
     "text": [
      "Fitting 3 folds for each of 5 candidates, totalling 15 fits\n",
      "0.7777135961643893\n"
     ]
    }
   ],
   "source": [
    "lg_clf = LogisticRegression(random_state = 0, max_iter = 1000)\n",
    "\n",
    "params = {\"C\": [1, 3.5, 4.5, 6.6, 10]}\n",
    "grid_cv = GridSearchCV(lg_clf, param_grid = params, cv = 3, scoring = 'accuracy', verbose = 1)\n",
    "grid_cv.fit(tfidf_matrix_train, train_df['y'])\n",
    "print(grid_cv.best_score_)"
   ]
  },
  {
   "cell_type": "code",
   "execution_count": 10,
   "id": "097cf2d9",
   "metadata": {},
   "outputs": [
    {
     "name": "stdout",
     "output_type": "stream",
     "text": [
      "0.8\n"
     ]
    }
   ],
   "source": [
    "from sklearn.metrics import accuracy_score\n",
    "\n",
    "tfidf_matrix_test = tfidf_vect.transform(test_df['review'])\n",
    "\n",
    "best_estimator = grid_cv.best_estimator_\n",
    "preds = best_estimator.predict(tfidf_matrix_test)\n",
    "\n",
    "print(accuracy_score(test_df['y'], preds))"
   ]
  },
  {
   "cell_type": "markdown",
   "id": "dcad9b7c",
   "metadata": {},
   "source": [
    "## 실제 리뷰에 적용\n",
    "- 리뷰 파일을 불러와 모델을 적용\n",
    "- 클래스가 분류된 데이터프레임을 파일로 다시 저장\n",
    "- 긍정부정 분류를 여러 번 시도했기 때문에 리뷰 파일을 수정하는 것이 아닌 새로운 파일을 만들어 결과를 저장했습니다."
   ]
  },
  {
   "cell_type": "code",
   "execution_count": 11,
   "id": "6e29e13b",
   "metadata": {},
   "outputs": [
    {
     "data": {
      "text/html": [
       "<div>\n",
       "<style scoped>\n",
       "    .dataframe tbody tr th:only-of-type {\n",
       "        vertical-align: middle;\n",
       "    }\n",
       "\n",
       "    .dataframe tbody tr th {\n",
       "        vertical-align: top;\n",
       "    }\n",
       "\n",
       "    .dataframe thead th {\n",
       "        text-align: right;\n",
       "    }\n",
       "</style>\n",
       "<table border=\"1\" class=\"dataframe\">\n",
       "  <thead>\n",
       "    <tr style=\"text-align: right;\">\n",
       "      <th></th>\n",
       "      <th>Unnamed: 0</th>\n",
       "      <th>review</th>\n",
       "    </tr>\n",
       "  </thead>\n",
       "  <tbody>\n",
       "    <tr>\n",
       "      <th>0</th>\n",
       "      <td>0</td>\n",
       "      <td>냄새를 쓱 맡아보니 매콤하면서도 먹음직스러운 향이 코를 스친다</td>\n",
       "    </tr>\n",
       "    <tr>\n",
       "      <th>1</th>\n",
       "      <td>1</td>\n",
       "      <td>까르보나라 파스타 먹을 때 꾸덕한 크림소스가 잘 묻을 수 있도록 링귀니를 사용하는 ...</td>\n",
       "    </tr>\n",
       "    <tr>\n",
       "      <th>2</th>\n",
       "      <td>2</td>\n",
       "      <td>불닭볶음면은 너무 맵지만 까르보불닭볶음면은 딱 좋은 맵기</td>\n",
       "    </tr>\n",
       "    <tr>\n",
       "      <th>3</th>\n",
       "      <td>3</td>\n",
       "      <td>매운맛의 원조 불닭소스와 크림분말이 만나서 부드럽게 즐기실 수 있어요</td>\n",
       "    </tr>\n",
       "    <tr>\n",
       "      <th>4</th>\n",
       "      <td>4</td>\n",
       "      <td>이 두가지 조합이 매운맛을 덜어주는데 큰 공신을 한다구욧</td>\n",
       "    </tr>\n",
       "    <tr>\n",
       "      <th>5</th>\n",
       "      <td>5</td>\n",
       "      <td>저같은 맵찔이가 아니시라면 참치마요 대신 전주비빔을 추천드려요</td>\n",
       "    </tr>\n",
       "    <tr>\n",
       "      <th>6</th>\n",
       "      <td>6</td>\n",
       "      <td>내 기준에는 그래도 충분히 꾸덕꾸덕하게 느껴진다</td>\n",
       "    </tr>\n",
       "    <tr>\n",
       "      <th>7</th>\n",
       "      <td>7</td>\n",
       "      <td>크림이 들어가면 느끼한 맛이 있을 것 같은데  매운 불닭볶음면 소스와 만나니 둘이 ...</td>\n",
       "    </tr>\n",
       "    <tr>\n",
       "      <th>8</th>\n",
       "      <td>8</td>\n",
       "      <td>불닭볶음면 먹을 때 한번씩 멍때리며 찾아보기 좋을 것 같다</td>\n",
       "    </tr>\n",
       "    <tr>\n",
       "      <th>9</th>\n",
       "      <td>9</td>\n",
       "      <td>약간 다른 라면이랑 확실히 면 자체도 특이하게 생기지 않았나요</td>\n",
       "    </tr>\n",
       "    <tr>\n",
       "      <th>10</th>\n",
       "      <td>10</td>\n",
       "      <td>삼양식품의 운명을 바꾼 불닭볶음면 시리즈에 대한 내용이 너무 인상적이었기 때문</td>\n",
       "    </tr>\n",
       "    <tr>\n",
       "      <th>11</th>\n",
       "      <td>11</td>\n",
       "      <td>다양한 연령층에게 어필할 수 있을 것으로 예상</td>\n",
       "    </tr>\n",
       "    <tr>\n",
       "      <th>12</th>\n",
       "      <td>12</td>\n",
       "      <td>치즈가루와 부드럽고 매콤한 소스의 조화가 아주 좋다</td>\n",
       "    </tr>\n",
       "    <tr>\n",
       "      <th>13</th>\n",
       "      <td>13</td>\n",
       "      <td>내 기준 까르보불닭볶음면은 살짝 덜 익어서 꼬들한 면 상태일 때 먹는 게 더 맛있는...</td>\n",
       "    </tr>\n",
       "    <tr>\n",
       "      <th>14</th>\n",
       "      <td>14</td>\n",
       "      <td>불닭 시리즈는 다 맛있고 매워요</td>\n",
       "    </tr>\n",
       "    <tr>\n",
       "      <th>15</th>\n",
       "      <td>15</td>\n",
       "      <td>확실히 매운맛에 크림이 들어가니까 적당히 매우면서 감칠맛이 함께 나는 편이었다</td>\n",
       "    </tr>\n",
       "    <tr>\n",
       "      <th>16</th>\n",
       "      <td>16</td>\n",
       "      <td>동생이 맵린이라 이걸로 불닭 입문해서 맨날 먹던 적이 있었는데 확실히 크림이 들어가...</td>\n",
       "    </tr>\n",
       "    <tr>\n",
       "      <th>17</th>\n",
       "      <td>17</td>\n",
       "      <td>까르보 불닭볶음면 컵라면은 매운 향에 비해 매운 맛이 강하지는 않았어요</td>\n",
       "    </tr>\n",
       "    <tr>\n",
       "      <th>18</th>\n",
       "      <td>18</td>\n",
       "      <td>입맛이 무뎌서 그런지 크림맛이 잘 느껴지지는 않았지만 적당히 맵고 부드러운 맛이에요</td>\n",
       "    </tr>\n",
       "    <tr>\n",
       "      <th>19</th>\n",
       "      <td>19</td>\n",
       "      <td>까르보 같이 먹을 까르</td>\n",
       "    </tr>\n",
       "  </tbody>\n",
       "</table>\n",
       "</div>"
      ],
      "text/plain": [
       "    Unnamed: 0                                             review\n",
       "0            0                 냄새를 쓱 맡아보니 매콤하면서도 먹음직스러운 향이 코를 스친다\n",
       "1            1  까르보나라 파스타 먹을 때 꾸덕한 크림소스가 잘 묻을 수 있도록 링귀니를 사용하는 ...\n",
       "2            2                    불닭볶음면은 너무 맵지만 까르보불닭볶음면은 딱 좋은 맵기\n",
       "3            3             매운맛의 원조 불닭소스와 크림분말이 만나서 부드럽게 즐기실 수 있어요\n",
       "4            4                    이 두가지 조합이 매운맛을 덜어주는데 큰 공신을 한다구욧\n",
       "5            5                 저같은 맵찔이가 아니시라면 참치마요 대신 전주비빔을 추천드려요\n",
       "6            6                         내 기준에는 그래도 충분히 꾸덕꾸덕하게 느껴진다\n",
       "7            7  크림이 들어가면 느끼한 맛이 있을 것 같은데  매운 불닭볶음면 소스와 만나니 둘이 ...\n",
       "8            8                   불닭볶음면 먹을 때 한번씩 멍때리며 찾아보기 좋을 것 같다\n",
       "9            9                 약간 다른 라면이랑 확실히 면 자체도 특이하게 생기지 않았나요\n",
       "10          10        삼양식품의 운명을 바꾼 불닭볶음면 시리즈에 대한 내용이 너무 인상적이었기 때문\n",
       "11          11                          다양한 연령층에게 어필할 수 있을 것으로 예상\n",
       "12          12                       치즈가루와 부드럽고 매콤한 소스의 조화가 아주 좋다\n",
       "13          13  내 기준 까르보불닭볶음면은 살짝 덜 익어서 꼬들한 면 상태일 때 먹는 게 더 맛있는...\n",
       "14          14                                  불닭 시리즈는 다 맛있고 매워요\n",
       "15          15        확실히 매운맛에 크림이 들어가니까 적당히 매우면서 감칠맛이 함께 나는 편이었다\n",
       "16          16  동생이 맵린이라 이걸로 불닭 입문해서 맨날 먹던 적이 있었는데 확실히 크림이 들어가...\n",
       "17          17            까르보 불닭볶음면 컵라면은 매운 향에 비해 매운 맛이 강하지는 않았어요\n",
       "18          18     입맛이 무뎌서 그런지 크림맛이 잘 느껴지지는 않았지만 적당히 맵고 부드러운 맛이에요\n",
       "19          19                                       까르보 같이 먹을 까르"
      ]
     },
     "execution_count": 11,
     "metadata": {},
     "output_type": "execute_result"
    }
   ],
   "source": [
    "import glob\n",
    "\n",
    "path = \"./리뷰\"\n",
    "\n",
    "file = glob.glob(path + \"/*.csv\")\n",
    "data = []\n",
    "\n",
    "for root in file:\n",
    "    data.append(pd.read_csv(root, encoding = \"cp949\"))\n",
    "    \n",
    "data[0]"
   ]
  },
  {
   "cell_type": "code",
   "execution_count": 12,
   "id": "8407c885",
   "metadata": {},
   "outputs": [],
   "source": [
    "file = ['까르보불닭볶음면.csv', \"나가사끼짬뽕.csv\", \"무파마.csv\", \"미트스파게티불닭볶음면.csv\", \"비빔면.csv\", \"사천짜파게티.csv\", \n",
    "        \"새우탕.csv\", \"쇠고기미역국라면.csv\", \"스낵면.csv\", \"신라면건면.csv\", \"신라면두부김치.csv\", \"앵그리짜파구리.csv\", \n",
    "        \"오라이시.csv\", \"진라면.csv\", \"짜파게티범벅.csv\", \"짬뽕왕뚜껑.csv\", \"참깨라면.csv\", \"컵누들매콤.csv\", \n",
    "        \"컵누들베트남쌀국수.csv\", \"크림진짬뽕.csv\"]\n",
    "\n",
    "for i in range(20):\n",
    "    tfidf_matrix_test = tfidf_vect.transform(data[i]['review'])\n",
    "\n",
    "    best_estimator = grid_cv.best_estimator_\n",
    "    preds = np.array(best_estimator.predict(tfidf_matrix_test)).reshape(-1)\n",
    "    data[i]['y'] = preds\n",
    "    save = data[i].loc[:,'review':'y']\n",
    "    save.to_csv(\"./분류리뷰/test6_\" + file[i], encoding = \"cp949\")"
   ]
  }
 ],
 "metadata": {
  "kernelspec": {
   "display_name": "eb_kernel",
   "language": "python",
   "name": "eb"
  },
  "language_info": {
   "codemirror_mode": {
    "name": "ipython",
    "version": 3
   },
   "file_extension": ".py",
   "mimetype": "text/x-python",
   "name": "python",
   "nbconvert_exporter": "python",
   "pygments_lexer": "ipython3",
   "version": "3.9.7"
  }
 },
 "nbformat": 4,
 "nbformat_minor": 5
}
